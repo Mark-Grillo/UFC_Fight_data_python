{
 "cells": [
  {
   "cell_type": "markdown",
   "id": "2120c906",
   "metadata": {},
   "source": [
    "## 6.4 CF Task Supervised Machine Learning Regression"
   ]
  },
  {
   "cell_type": "markdown",
   "id": "fedf65ae",
   "metadata": {},
   "source": [
    "## 1. Import libraries"
   ]
  },
  {
   "cell_type": "code",
   "execution_count": 1,
   "id": "bc4ad362",
   "metadata": {},
   "outputs": [],
   "source": [
    "import pandas as pd\n",
    "import numpy as np\n",
    "import seaborn as sns\n",
    "import matplotlib\n",
    "import matplotlib.pyplot as plt\n",
    "import os\n",
    "import sklearn\n",
    "from sklearn.model_selection import train_test_split\n",
    "from sklearn.linear_model import LinearRegression\n",
    "from sklearn.metrics import mean_squared_error, r2_score"
   ]
  },
  {
   "cell_type": "code",
   "execution_count": 2,
   "id": "5e20a250",
   "metadata": {},
   "outputs": [],
   "source": [
    "%matplotlib inline"
   ]
  },
  {
   "cell_type": "code",
   "execution_count": 3,
   "id": "c8421cbe",
   "metadata": {},
   "outputs": [],
   "source": [
    "# Create file path\n",
    "path = r'C:\\Users\\mgril\\OneDrive\\Desktop\\UFC project folder'"
   ]
  },
  {
   "cell_type": "code",
   "execution_count": 4,
   "id": "2b8f449d",
   "metadata": {},
   "outputs": [],
   "source": [
    "# import UFC data set\n",
    "df_UFC = pd.read_csv(os.path.join(path,  'Prepared data UFC', 'UFC_wrangled.csv'), index_col = False)"
   ]
  },
  {
   "cell_type": "code",
   "execution_count": 5,
   "id": "4b5132fd",
   "metadata": {},
   "outputs": [
    {
     "data": {
      "text/html": [
       "<div>\n",
       "<style scoped>\n",
       "    .dataframe tbody tr th:only-of-type {\n",
       "        vertical-align: middle;\n",
       "    }\n",
       "\n",
       "    .dataframe tbody tr th {\n",
       "        vertical-align: top;\n",
       "    }\n",
       "\n",
       "    .dataframe thead th {\n",
       "        text-align: right;\n",
       "    }\n",
       "</style>\n",
       "<table border=\"1\" class=\"dataframe\">\n",
       "  <thead>\n",
       "    <tr style=\"text-align: right;\">\n",
       "      <th></th>\n",
       "      <th>Unnamed: 0</th>\n",
       "      <th>r_fighter</th>\n",
       "      <th>b_fighter</th>\n",
       "      <th>date_of_fight</th>\n",
       "      <th>year_of_fight</th>\n",
       "      <th>city</th>\n",
       "      <th>state</th>\n",
       "      <th>country</th>\n",
       "      <th>winner</th>\n",
       "      <th>r_winner</th>\n",
       "      <th>...</th>\n",
       "      <th>r_win_unam</th>\n",
       "      <th>r_win_tko</th>\n",
       "      <th>r_win_sub</th>\n",
       "      <th>r_win_dr_stop</th>\n",
       "      <th>r_stance</th>\n",
       "      <th>r_height_cms</th>\n",
       "      <th>r_reach_cms</th>\n",
       "      <th>r_weight_lbs</th>\n",
       "      <th>b_age</th>\n",
       "      <th>r_age</th>\n",
       "    </tr>\n",
       "  </thead>\n",
       "  <tbody>\n",
       "    <tr>\n",
       "      <th>0</th>\n",
       "      <td>0</td>\n",
       "      <td>Royce Gracie</td>\n",
       "      <td>Patrick Smith</td>\n",
       "      <td>3/11/1994</td>\n",
       "      <td>1994</td>\n",
       "      <td>Denver</td>\n",
       "      <td>Colorado</td>\n",
       "      <td>United States of America</td>\n",
       "      <td>Red</td>\n",
       "      <td>1</td>\n",
       "      <td>...</td>\n",
       "      <td>0</td>\n",
       "      <td>0</td>\n",
       "      <td>3</td>\n",
       "      <td>0</td>\n",
       "      <td>Southpaw</td>\n",
       "      <td>185.42</td>\n",
       "      <td>183.57</td>\n",
       "      <td>175</td>\n",
       "      <td>30</td>\n",
       "      <td>27</td>\n",
       "    </tr>\n",
       "    <tr>\n",
       "      <th>1</th>\n",
       "      <td>1</td>\n",
       "      <td>Patrick Smith</td>\n",
       "      <td>Scott Morris</td>\n",
       "      <td>3/11/1994</td>\n",
       "      <td>1994</td>\n",
       "      <td>Denver</td>\n",
       "      <td>Colorado</td>\n",
       "      <td>United States of America</td>\n",
       "      <td>Red</td>\n",
       "      <td>1</td>\n",
       "      <td>...</td>\n",
       "      <td>0</td>\n",
       "      <td>0</td>\n",
       "      <td>2</td>\n",
       "      <td>0</td>\n",
       "      <td>Orthodox</td>\n",
       "      <td>187.96</td>\n",
       "      <td>183.57</td>\n",
       "      <td>225</td>\n",
       "      <td>31</td>\n",
       "      <td>30</td>\n",
       "    </tr>\n",
       "    <tr>\n",
       "      <th>2</th>\n",
       "      <td>2</td>\n",
       "      <td>Royce Gracie</td>\n",
       "      <td>Remco Pardoel</td>\n",
       "      <td>3/11/1994</td>\n",
       "      <td>1994</td>\n",
       "      <td>Denver</td>\n",
       "      <td>Colorado</td>\n",
       "      <td>United States of America</td>\n",
       "      <td>Red</td>\n",
       "      <td>1</td>\n",
       "      <td>...</td>\n",
       "      <td>0</td>\n",
       "      <td>0</td>\n",
       "      <td>2</td>\n",
       "      <td>0</td>\n",
       "      <td>Southpaw</td>\n",
       "      <td>185.42</td>\n",
       "      <td>183.57</td>\n",
       "      <td>175</td>\n",
       "      <td>28</td>\n",
       "      <td>27</td>\n",
       "    </tr>\n",
       "    <tr>\n",
       "      <th>3</th>\n",
       "      <td>3</td>\n",
       "      <td>Remco Pardoel</td>\n",
       "      <td>Orlando Wiet</td>\n",
       "      <td>3/11/1994</td>\n",
       "      <td>1994</td>\n",
       "      <td>Denver</td>\n",
       "      <td>Colorado</td>\n",
       "      <td>United States of America</td>\n",
       "      <td>Red</td>\n",
       "      <td>1</td>\n",
       "      <td>...</td>\n",
       "      <td>0</td>\n",
       "      <td>0</td>\n",
       "      <td>1</td>\n",
       "      <td>0</td>\n",
       "      <td>Southpaw</td>\n",
       "      <td>190.50</td>\n",
       "      <td>183.57</td>\n",
       "      <td>260</td>\n",
       "      <td>36</td>\n",
       "      <td>30</td>\n",
       "    </tr>\n",
       "    <tr>\n",
       "      <th>4</th>\n",
       "      <td>4</td>\n",
       "      <td>Patrick Smith</td>\n",
       "      <td>Johnny Rhodes</td>\n",
       "      <td>3/11/1994</td>\n",
       "      <td>1994</td>\n",
       "      <td>Denver</td>\n",
       "      <td>Colorado</td>\n",
       "      <td>United States of America</td>\n",
       "      <td>Red</td>\n",
       "      <td>1</td>\n",
       "      <td>...</td>\n",
       "      <td>0</td>\n",
       "      <td>0</td>\n",
       "      <td>1</td>\n",
       "      <td>0</td>\n",
       "      <td>Orthodox</td>\n",
       "      <td>187.96</td>\n",
       "      <td>183.57</td>\n",
       "      <td>225</td>\n",
       "      <td>39</td>\n",
       "      <td>30</td>\n",
       "    </tr>\n",
       "  </tbody>\n",
       "</table>\n",
       "<p>5 rows × 38 columns</p>\n",
       "</div>"
      ],
      "text/plain": [
       "   Unnamed: 0      r_fighter      b_fighter date_of_fight  year_of_fight  \\\n",
       "0           0   Royce Gracie  Patrick Smith     3/11/1994           1994   \n",
       "1           1  Patrick Smith   Scott Morris     3/11/1994           1994   \n",
       "2           2   Royce Gracie  Remco Pardoel     3/11/1994           1994   \n",
       "3           3  Remco Pardoel   Orlando Wiet     3/11/1994           1994   \n",
       "4           4  Patrick Smith  Johnny Rhodes     3/11/1994           1994   \n",
       "\n",
       "     city     state                   country winner  r_winner  ...  \\\n",
       "0  Denver  Colorado  United States of America    Red         1  ...   \n",
       "1  Denver  Colorado  United States of America    Red         1  ...   \n",
       "2  Denver  Colorado  United States of America    Red         1  ...   \n",
       "3  Denver  Colorado  United States of America    Red         1  ...   \n",
       "4  Denver  Colorado  United States of America    Red         1  ...   \n",
       "\n",
       "   r_win_unam r_win_tko  r_win_sub  r_win_dr_stop  r_stance  r_height_cms  \\\n",
       "0           0         0          3              0  Southpaw        185.42   \n",
       "1           0         0          2              0  Orthodox        187.96   \n",
       "2           0         0          2              0  Southpaw        185.42   \n",
       "3           0         0          1              0  Southpaw        190.50   \n",
       "4           0         0          1              0  Orthodox        187.96   \n",
       "\n",
       "   r_reach_cms  r_weight_lbs  b_age  r_age  \n",
       "0       183.57           175     30     27  \n",
       "1       183.57           225     31     30  \n",
       "2       183.57           175     28     27  \n",
       "3       183.57           260     36     30  \n",
       "4       183.57           225     39     30  \n",
       "\n",
       "[5 rows x 38 columns]"
      ]
     },
     "execution_count": 5,
     "metadata": {},
     "output_type": "execute_result"
    }
   ],
   "source": [
    "#check headers \n",
    "df_UFC.head()"
   ]
  },
  {
   "cell_type": "code",
   "execution_count": 6,
   "id": "96150ce5",
   "metadata": {},
   "outputs": [],
   "source": [
    "#remove unamed columns\n",
    "df_UFC = df_UFC.drop(columns = ['Unnamed: 0'])"
   ]
  },
  {
   "cell_type": "code",
   "execution_count": 7,
   "id": "94cfa01a",
   "metadata": {},
   "outputs": [
    {
     "data": {
      "text/html": [
       "<div>\n",
       "<style scoped>\n",
       "    .dataframe tbody tr th:only-of-type {\n",
       "        vertical-align: middle;\n",
       "    }\n",
       "\n",
       "    .dataframe tbody tr th {\n",
       "        vertical-align: top;\n",
       "    }\n",
       "\n",
       "    .dataframe thead th {\n",
       "        text-align: right;\n",
       "    }\n",
       "</style>\n",
       "<table border=\"1\" class=\"dataframe\">\n",
       "  <thead>\n",
       "    <tr style=\"text-align: right;\">\n",
       "      <th></th>\n",
       "      <th>r_fighter</th>\n",
       "      <th>b_fighter</th>\n",
       "      <th>date_of_fight</th>\n",
       "      <th>year_of_fight</th>\n",
       "      <th>city</th>\n",
       "      <th>state</th>\n",
       "      <th>country</th>\n",
       "      <th>winner</th>\n",
       "      <th>r_winner</th>\n",
       "      <th>b_winner</th>\n",
       "      <th>...</th>\n",
       "      <th>r_win_unam</th>\n",
       "      <th>r_win_tko</th>\n",
       "      <th>r_win_sub</th>\n",
       "      <th>r_win_dr_stop</th>\n",
       "      <th>r_stance</th>\n",
       "      <th>r_height_cms</th>\n",
       "      <th>r_reach_cms</th>\n",
       "      <th>r_weight_lbs</th>\n",
       "      <th>b_age</th>\n",
       "      <th>r_age</th>\n",
       "    </tr>\n",
       "  </thead>\n",
       "  <tbody>\n",
       "    <tr>\n",
       "      <th>0</th>\n",
       "      <td>Royce Gracie</td>\n",
       "      <td>Patrick Smith</td>\n",
       "      <td>3/11/1994</td>\n",
       "      <td>1994</td>\n",
       "      <td>Denver</td>\n",
       "      <td>Colorado</td>\n",
       "      <td>United States of America</td>\n",
       "      <td>Red</td>\n",
       "      <td>1</td>\n",
       "      <td>0</td>\n",
       "      <td>...</td>\n",
       "      <td>0</td>\n",
       "      <td>0</td>\n",
       "      <td>3</td>\n",
       "      <td>0</td>\n",
       "      <td>Southpaw</td>\n",
       "      <td>185.42</td>\n",
       "      <td>183.57</td>\n",
       "      <td>175</td>\n",
       "      <td>30</td>\n",
       "      <td>27</td>\n",
       "    </tr>\n",
       "    <tr>\n",
       "      <th>1</th>\n",
       "      <td>Patrick Smith</td>\n",
       "      <td>Scott Morris</td>\n",
       "      <td>3/11/1994</td>\n",
       "      <td>1994</td>\n",
       "      <td>Denver</td>\n",
       "      <td>Colorado</td>\n",
       "      <td>United States of America</td>\n",
       "      <td>Red</td>\n",
       "      <td>1</td>\n",
       "      <td>0</td>\n",
       "      <td>...</td>\n",
       "      <td>0</td>\n",
       "      <td>0</td>\n",
       "      <td>2</td>\n",
       "      <td>0</td>\n",
       "      <td>Orthodox</td>\n",
       "      <td>187.96</td>\n",
       "      <td>183.57</td>\n",
       "      <td>225</td>\n",
       "      <td>31</td>\n",
       "      <td>30</td>\n",
       "    </tr>\n",
       "    <tr>\n",
       "      <th>2</th>\n",
       "      <td>Royce Gracie</td>\n",
       "      <td>Remco Pardoel</td>\n",
       "      <td>3/11/1994</td>\n",
       "      <td>1994</td>\n",
       "      <td>Denver</td>\n",
       "      <td>Colorado</td>\n",
       "      <td>United States of America</td>\n",
       "      <td>Red</td>\n",
       "      <td>1</td>\n",
       "      <td>0</td>\n",
       "      <td>...</td>\n",
       "      <td>0</td>\n",
       "      <td>0</td>\n",
       "      <td>2</td>\n",
       "      <td>0</td>\n",
       "      <td>Southpaw</td>\n",
       "      <td>185.42</td>\n",
       "      <td>183.57</td>\n",
       "      <td>175</td>\n",
       "      <td>28</td>\n",
       "      <td>27</td>\n",
       "    </tr>\n",
       "    <tr>\n",
       "      <th>3</th>\n",
       "      <td>Remco Pardoel</td>\n",
       "      <td>Orlando Wiet</td>\n",
       "      <td>3/11/1994</td>\n",
       "      <td>1994</td>\n",
       "      <td>Denver</td>\n",
       "      <td>Colorado</td>\n",
       "      <td>United States of America</td>\n",
       "      <td>Red</td>\n",
       "      <td>1</td>\n",
       "      <td>0</td>\n",
       "      <td>...</td>\n",
       "      <td>0</td>\n",
       "      <td>0</td>\n",
       "      <td>1</td>\n",
       "      <td>0</td>\n",
       "      <td>Southpaw</td>\n",
       "      <td>190.50</td>\n",
       "      <td>183.57</td>\n",
       "      <td>260</td>\n",
       "      <td>36</td>\n",
       "      <td>30</td>\n",
       "    </tr>\n",
       "    <tr>\n",
       "      <th>4</th>\n",
       "      <td>Patrick Smith</td>\n",
       "      <td>Johnny Rhodes</td>\n",
       "      <td>3/11/1994</td>\n",
       "      <td>1994</td>\n",
       "      <td>Denver</td>\n",
       "      <td>Colorado</td>\n",
       "      <td>United States of America</td>\n",
       "      <td>Red</td>\n",
       "      <td>1</td>\n",
       "      <td>0</td>\n",
       "      <td>...</td>\n",
       "      <td>0</td>\n",
       "      <td>0</td>\n",
       "      <td>1</td>\n",
       "      <td>0</td>\n",
       "      <td>Orthodox</td>\n",
       "      <td>187.96</td>\n",
       "      <td>183.57</td>\n",
       "      <td>225</td>\n",
       "      <td>39</td>\n",
       "      <td>30</td>\n",
       "    </tr>\n",
       "  </tbody>\n",
       "</table>\n",
       "<p>5 rows × 37 columns</p>\n",
       "</div>"
      ],
      "text/plain": [
       "       r_fighter      b_fighter date_of_fight  year_of_fight    city  \\\n",
       "0   Royce Gracie  Patrick Smith     3/11/1994           1994  Denver   \n",
       "1  Patrick Smith   Scott Morris     3/11/1994           1994  Denver   \n",
       "2   Royce Gracie  Remco Pardoel     3/11/1994           1994  Denver   \n",
       "3  Remco Pardoel   Orlando Wiet     3/11/1994           1994  Denver   \n",
       "4  Patrick Smith  Johnny Rhodes     3/11/1994           1994  Denver   \n",
       "\n",
       "      state                   country winner  r_winner  b_winner  ...  \\\n",
       "0  Colorado  United States of America    Red         1         0  ...   \n",
       "1  Colorado  United States of America    Red         1         0  ...   \n",
       "2  Colorado  United States of America    Red         1         0  ...   \n",
       "3  Colorado  United States of America    Red         1         0  ...   \n",
       "4  Colorado  United States of America    Red         1         0  ...   \n",
       "\n",
       "  r_win_unam  r_win_tko  r_win_sub  r_win_dr_stop  r_stance  r_height_cms  \\\n",
       "0          0          0          3              0  Southpaw        185.42   \n",
       "1          0          0          2              0  Orthodox        187.96   \n",
       "2          0          0          2              0  Southpaw        185.42   \n",
       "3          0          0          1              0  Southpaw        190.50   \n",
       "4          0          0          1              0  Orthodox        187.96   \n",
       "\n",
       "   r_reach_cms  r_weight_lbs  b_age r_age  \n",
       "0       183.57           175     30    27  \n",
       "1       183.57           225     31    30  \n",
       "2       183.57           175     28    27  \n",
       "3       183.57           260     36    30  \n",
       "4       183.57           225     39    30  \n",
       "\n",
       "[5 rows x 37 columns]"
      ]
     },
     "execution_count": 7,
     "metadata": {},
     "output_type": "execute_result"
    }
   ],
   "source": [
    "# check unnamed column dropped \n",
    "df_UFC.head()"
   ]
  },
  {
   "cell_type": "code",
   "execution_count": 8,
   "id": "843ddfcf",
   "metadata": {},
   "outputs": [
    {
     "data": {
      "text/plain": [
       "(5901, 37)"
      ]
     },
     "execution_count": 8,
     "metadata": {},
     "output_type": "execute_result"
    }
   ],
   "source": [
    "# check shape of DF\n",
    "df_UFC.shape"
   ]
  },
  {
   "cell_type": "markdown",
   "id": "d9e2758f",
   "metadata": {},
   "source": [
    "## Data cleaning"
   ]
  },
  {
   "cell_type": "code",
   "execution_count": 9,
   "id": "088fe78c",
   "metadata": {},
   "outputs": [
    {
     "data": {
      "text/plain": [
       "Index(['r_fighter', 'b_fighter', 'date_of_fight', 'year_of_fight', 'city',\n",
       "       'state', 'country', 'winner', 'r_winner', 'b_winner', 'weight_class',\n",
       "       'b_wins', 'b_losses', 'b_win_maj', 'b_win_split', 'b_win_unam',\n",
       "       'b_win_tko', 'b_win_sub', 'b_win_dr_stop', 'b_stance', 'b_height_cms',\n",
       "       'b_reach_cms', 'b_weight_lbs', 'r_wins', 'r_losses', 'r_win_maj',\n",
       "       'r_win_split', 'r_win_unam', 'r_win_tko', 'r_win_sub', 'r_win_dr_stop',\n",
       "       'r_stance', 'r_height_cms', 'r_reach_cms', 'r_weight_lbs', 'b_age',\n",
       "       'r_age'],\n",
       "      dtype='object')"
      ]
     },
     "execution_count": 9,
     "metadata": {},
     "output_type": "execute_result"
    }
   ],
   "source": [
    "df_UFC.columns"
   ]
  },
  {
   "cell_type": "code",
   "execution_count": 10,
   "id": "2e8cfb29",
   "metadata": {},
   "outputs": [
    {
     "data": {
      "text/plain": [
       "r_fighter        0\n",
       "b_fighter        0\n",
       "date_of_fight    0\n",
       "year_of_fight    0\n",
       "city             0\n",
       "state            0\n",
       "country          0\n",
       "winner           0\n",
       "r_winner         0\n",
       "b_winner         0\n",
       "weight_class     0\n",
       "b_wins           0\n",
       "b_losses         0\n",
       "b_win_maj        0\n",
       "b_win_split      0\n",
       "b_win_unam       0\n",
       "b_win_tko        0\n",
       "b_win_sub        0\n",
       "b_win_dr_stop    0\n",
       "b_stance         0\n",
       "b_height_cms     0\n",
       "b_reach_cms      0\n",
       "b_weight_lbs     0\n",
       "r_wins           0\n",
       "r_losses         0\n",
       "r_win_maj        0\n",
       "r_win_split      0\n",
       "r_win_unam       0\n",
       "r_win_tko        0\n",
       "r_win_sub        0\n",
       "r_win_dr_stop    0\n",
       "r_stance         0\n",
       "r_height_cms     0\n",
       "r_reach_cms      0\n",
       "r_weight_lbs     0\n",
       "b_age            0\n",
       "r_age            0\n",
       "dtype: int64"
      ]
     },
     "execution_count": 10,
     "metadata": {},
     "output_type": "execute_result"
    }
   ],
   "source": [
    "# Check for missing values\n",
    "\n",
    "df_UFC.isnull().sum()\n",
    "\n",
    "# No missing values to handle"
   ]
  },
  {
   "cell_type": "code",
   "execution_count": 11,
   "id": "96636f96",
   "metadata": {},
   "outputs": [
    {
     "data": {
      "text/html": [
       "<div>\n",
       "<style scoped>\n",
       "    .dataframe tbody tr th:only-of-type {\n",
       "        vertical-align: middle;\n",
       "    }\n",
       "\n",
       "    .dataframe tbody tr th {\n",
       "        vertical-align: top;\n",
       "    }\n",
       "\n",
       "    .dataframe thead th {\n",
       "        text-align: right;\n",
       "    }\n",
       "</style>\n",
       "<table border=\"1\" class=\"dataframe\">\n",
       "  <thead>\n",
       "    <tr style=\"text-align: right;\">\n",
       "      <th></th>\n",
       "      <th>r_fighter</th>\n",
       "      <th>b_fighter</th>\n",
       "      <th>date_of_fight</th>\n",
       "      <th>year_of_fight</th>\n",
       "      <th>city</th>\n",
       "      <th>state</th>\n",
       "      <th>country</th>\n",
       "      <th>winner</th>\n",
       "      <th>r_winner</th>\n",
       "      <th>b_winner</th>\n",
       "      <th>...</th>\n",
       "      <th>r_win_unam</th>\n",
       "      <th>r_win_tko</th>\n",
       "      <th>r_win_sub</th>\n",
       "      <th>r_win_dr_stop</th>\n",
       "      <th>r_stance</th>\n",
       "      <th>r_height_cms</th>\n",
       "      <th>r_reach_cms</th>\n",
       "      <th>r_weight_lbs</th>\n",
       "      <th>b_age</th>\n",
       "      <th>r_age</th>\n",
       "    </tr>\n",
       "  </thead>\n",
       "  <tbody>\n",
       "  </tbody>\n",
       "</table>\n",
       "<p>0 rows × 37 columns</p>\n",
       "</div>"
      ],
      "text/plain": [
       "Empty DataFrame\n",
       "Columns: [r_fighter, b_fighter, date_of_fight, year_of_fight, city, state, country, winner, r_winner, b_winner, weight_class, b_wins, b_losses, b_win_maj, b_win_split, b_win_unam, b_win_tko, b_win_sub, b_win_dr_stop, b_stance, b_height_cms, b_reach_cms, b_weight_lbs, r_wins, r_losses, r_win_maj, r_win_split, r_win_unam, r_win_tko, r_win_sub, r_win_dr_stop, r_stance, r_height_cms, r_reach_cms, r_weight_lbs, b_age, r_age]\n",
       "Index: []\n",
       "\n",
       "[0 rows x 37 columns]"
      ]
     },
     "execution_count": 11,
     "metadata": {},
     "output_type": "execute_result"
    }
   ],
   "source": [
    "#check for dupes\n",
    "df_dups = df_UFC[df_UFC.duplicated()]\n",
    "df_dups.head(20)"
   ]
  },
  {
   "cell_type": "markdown",
   "id": "528f6944",
   "metadata": {},
   "source": [
    "### Extreme values check "
   ]
  },
  {
   "cell_type": "code",
   "execution_count": 12,
   "id": "3f5be903",
   "metadata": {},
   "outputs": [
    {
     "name": "stderr",
     "output_type": "stream",
     "text": [
      "C:\\Users\\mgril\\AppData\\Local\\Temp\\ipykernel_11780\\3250862898.py:1: UserWarning: \n",
      "\n",
      "`distplot` is a deprecated function and will be removed in seaborn v0.14.0.\n",
      "\n",
      "Please adapt your code to use either `displot` (a figure-level function with\n",
      "similar flexibility) or `histplot` (an axes-level function for histograms).\n",
      "\n",
      "For a guide to updating your code to use the new functions, please see\n",
      "https://gist.github.com/mwaskom/de44147ed2974457ad6372750bbe5751\n",
      "\n",
      "  sns.distplot(df_UFC['r_age'], bins=25) # Shows extreme values to see if outliers need to be removed\n"
     ]
    },
    {
     "data": {
      "text/plain": [
       "<Axes: xlabel='r_age', ylabel='Density'>"
      ]
     },
     "execution_count": 12,
     "metadata": {},
     "output_type": "execute_result"
    },
    {
     "data": {
      "image/png": "[encoded data removed]",
      "text/plain": [
       "<Figure size 640x480 with 1 Axes>"
      ]
     },
     "metadata": {},
     "output_type": "display_data"
    }
   ],
   "source": [
    "sns.distplot(df_UFC['r_age'], bins=25) # Shows extreme values to see if outliers need to be removed"
   ]
  },
  {
   "cell_type": "code",
   "execution_count": 13,
   "id": "2154140f",
   "metadata": {},
   "outputs": [
    {
     "data": {
      "text/plain": [
       "29.589730554143365"
      ]
     },
     "execution_count": 13,
     "metadata": {},
     "output_type": "execute_result"
    }
   ],
   "source": [
    "df_UFC['r_age'].mean() # Check the mean"
   ]
  },
  {
   "cell_type": "code",
   "execution_count": 14,
   "id": "48a4755b",
   "metadata": {},
   "outputs": [
    {
     "data": {
      "text/plain": [
       "29.0"
      ]
     },
     "execution_count": 14,
     "metadata": {},
     "output_type": "execute_result"
    }
   ],
   "source": [
    "df_UFC['r_age'].median() # Check the median"
   ]
  },
  {
   "cell_type": "code",
   "execution_count": 15,
   "id": "472dfebc",
   "metadata": {},
   "outputs": [
    {
     "data": {
      "text/plain": [
       "47"
      ]
     },
     "execution_count": 15,
     "metadata": {},
     "output_type": "execute_result"
    }
   ],
   "source": [
    "df_UFC['r_age'].max() # Check the max"
   ]
  },
  {
   "cell_type": "code",
   "execution_count": 16,
   "id": "1c428885",
   "metadata": {},
   "outputs": [
    {
     "data": {
      "text/plain": [
       "count    5901.000000\n",
       "mean       29.589731\n",
       "std         4.149734\n",
       "min        19.000000\n",
       "25%        27.000000\n",
       "50%        29.000000\n",
       "75%        32.000000\n",
       "max        47.000000\n",
       "Name: r_age, dtype: float64"
      ]
     },
     "execution_count": 16,
     "metadata": {},
     "output_type": "execute_result"
    }
   ],
   "source": [
    "df_UFC['r_age'].describe()"
   ]
  },
  {
   "cell_type": "markdown",
   "id": "233ad6a3",
   "metadata": {},
   "source": [
    "## 04. Explore your data visually (e.g., by way of a scatterplot), looking for variables whose relationship you’d like to test.\n",
    "creating scatterplot for just the variables of red corner age related to weight classes. previous analysis has shwon blue corner and red corner ages by mean, min and average are closely related. Will test one only for a model to see if it may be applied to the other blue corner at some point. "
   ]
  },
  {
   "cell_type": "code",
   "execution_count": 17,
   "id": "f4042f47",
   "metadata": {},
   "outputs": [
    {
     "data": {
      "image/png": "[encoded data removed]",
      "text/plain": [
       "<Figure size 640x480 with 1 Axes>"
      ]
     },
     "metadata": {},
     "output_type": "display_data"
    }
   ],
   "source": [
    "# Create a scatterplot using matplotlib for another look at how the chosen variables plot against each other.\n",
    "\n",
    "df_UFC.plot(x = 'r_age', y='r_weight_lbs',style='o') # The style option creates a scatterplot; without it, we only have lines.\n",
    "plt.title('Red Corner age related to weight class they fall in')  \n",
    "plt.xlabel('r_age')  \n",
    "plt.ylabel('r_weight_lbs')  \n",
    "plt.show()"
   ]
  },
  {
   "cell_type": "code",
   "execution_count": 18,
   "id": "d305c2c6",
   "metadata": {},
   "outputs": [
    {
     "data": {
      "image/png": "[encoded data removed]",
      "text/plain": [
       "<Figure size 640x480 with 1 Axes>"
      ]
     },
     "metadata": {},
     "output_type": "display_data"
    }
   ],
   "source": [
    "# Create a scatterplot using matplotlib for another look at how the chosen variables plot against each other.\n",
    "\n",
    "df_UFC.plot(x = 'r_wins', y='r_weight_lbs',style='o') # The style option creates a scatterplot; without it, we only have lines.\n",
    "plt.title('Red Corner overall wins related to weight class they fall in')  \n",
    "plt.xlabel('r_wins')  \n",
    "plt.ylabel('r_weight_lbs')  \n",
    "plt.show()"
   ]
  },
  {
   "cell_type": "code",
   "execution_count": 19,
   "id": "58b1746e",
   "metadata": {},
   "outputs": [],
   "source": [
    "# Reshape the variables into NumPy arrays and put them into separate objects.\n",
    "\n",
    "X = df_UFC['r_wins'].values.reshape(-1,1)\n",
    "y = df_UFC['r_weight_lbs'].values.reshape(-1,1)"
   ]
  },
  {
   "cell_type": "code",
   "execution_count": 20,
   "id": "4c4e0312",
   "metadata": {},
   "outputs": [
    {
     "data": {
      "text/plain": [
       "array([[3],\n",
       "       [2],\n",
       "       [2],\n",
       "       ...,\n",
       "       [5],\n",
       "       [7],\n",
       "       [4]], dtype=int64)"
      ]
     },
     "execution_count": 20,
     "metadata": {},
     "output_type": "execute_result"
    }
   ],
   "source": [
    "X"
   ]
  },
  {
   "cell_type": "code",
   "execution_count": 21,
   "id": "399598b8",
   "metadata": {},
   "outputs": [
    {
     "data": {
      "text/plain": [
       "array([[175],\n",
       "       [225],\n",
       "       [175],\n",
       "       ...,\n",
       "       [135],\n",
       "       [155],\n",
       "       [170]], dtype=int64)"
      ]
     },
     "execution_count": 21,
     "metadata": {},
     "output_type": "execute_result"
    }
   ],
   "source": [
    "y"
   ]
  },
  {
   "cell_type": "code",
   "execution_count": 22,
   "id": "bec92091",
   "metadata": {},
   "outputs": [],
   "source": [
    "# Split data into a training set and a test set.\n",
    "\n",
    "X_train, X_test, y_train, y_test = train_test_split(X, y, test_size=0.3, random_state=0)"
   ]
  },
  {
   "cell_type": "code",
   "execution_count": 23,
   "id": "96ec32b4",
   "metadata": {},
   "outputs": [],
   "source": [
    "# Create a regression object.\n",
    "\n",
    "regression = LinearRegression()  # This is the regression object, which will be fit onto the training set."
   ]
  },
  {
   "cell_type": "code",
   "execution_count": 24,
   "id": "5591e99c",
   "metadata": {},
   "outputs": [
    {
     "data": {
      "text/html": [
       "<style>#sk-container-id-1 {color: black;}#sk-container-id-1 pre{padding: 0;}#sk-container-id-1 div.sk-toggleable {background-color: white;}#sk-container-id-1 label.sk-toggleable__label {cursor: pointer;display: block;width: 100%;margin-bottom: 0;padding: 0.3em;box-sizing: border-box;text-align: center;}#sk-container-id-1 label.sk-toggleable__label-arrow:before {content: \"▸\";float: left;margin-right: 0.25em;color: #696969;}#sk-container-id-1 label.sk-toggleable__label-arrow:hover:before {color: black;}#sk-container-id-1 div.sk-estimator:hover label.sk-toggleable__label-arrow:before {color: black;}#sk-container-id-1 div.sk-toggleable__content {max-height: 0;max-width: 0;overflow: hidden;text-align: left;background-color: #f0f8ff;}#sk-container-id-1 div.sk-toggleable__content pre {margin: 0.2em;color: black;border-radius: 0.25em;background-color: #f0f8ff;}#sk-container-id-1 input.sk-toggleable__control:checked~div.sk-toggleable__content {max-height: 200px;max-width: 100%;overflow: auto;}#sk-container-id-1 input.sk-toggleable__control:checked~label.sk-toggleable__label-arrow:before {content: \"▾\";}#sk-container-id-1 div.sk-estimator input.sk-toggleable__control:checked~label.sk-toggleable__label {background-color: #d4ebff;}#sk-container-id-1 div.sk-label input.sk-toggleable__control:checked~label.sk-toggleable__label {background-color: #d4ebff;}#sk-container-id-1 input.sk-hidden--visually {border: 0;clip: rect(1px 1px 1px 1px);clip: rect(1px, 1px, 1px, 1px);height: 1px;margin: -1px;overflow: hidden;padding: 0;position: absolute;width: 1px;}#sk-container-id-1 div.sk-estimator {font-family: monospace;background-color: #f0f8ff;border: 1px dotted black;border-radius: 0.25em;box-sizing: border-box;margin-bottom: 0.5em;}#sk-container-id-1 div.sk-estimator:hover {background-color: #d4ebff;}#sk-container-id-1 div.sk-parallel-item::after {content: \"\";width: 100%;border-bottom: 1px solid gray;flex-grow: 1;}#sk-container-id-1 div.sk-label:hover label.sk-toggleable__label {background-color: #d4ebff;}#sk-container-id-1 div.sk-serial::before {content: \"\";position: absolute;border-left: 1px solid gray;box-sizing: border-box;top: 0;bottom: 0;left: 50%;z-index: 0;}#sk-container-id-1 div.sk-serial {display: flex;flex-direction: column;align-items: center;background-color: white;padding-right: 0.2em;padding-left: 0.2em;position: relative;}#sk-container-id-1 div.sk-item {position: relative;z-index: 1;}#sk-container-id-1 div.sk-parallel {display: flex;align-items: stretch;justify-content: center;background-color: white;position: relative;}#sk-container-id-1 div.sk-item::before, #sk-container-id-1 div.sk-parallel-item::before {content: \"\";position: absolute;border-left: 1px solid gray;box-sizing: border-box;top: 0;bottom: 0;left: 50%;z-index: -1;}#sk-container-id-1 div.sk-parallel-item {display: flex;flex-direction: column;z-index: 1;position: relative;background-color: white;}#sk-container-id-1 div.sk-parallel-item:first-child::after {align-self: flex-end;width: 50%;}#sk-container-id-1 div.sk-parallel-item:last-child::after {align-self: flex-start;width: 50%;}#sk-container-id-1 div.sk-parallel-item:only-child::after {width: 0;}#sk-container-id-1 div.sk-dashed-wrapped {border: 1px dashed gray;margin: 0 0.4em 0.5em 0.4em;box-sizing: border-box;padding-bottom: 0.4em;background-color: white;}#sk-container-id-1 div.sk-label label {font-family: monospace;font-weight: bold;display: inline-block;line-height: 1.2em;}#sk-container-id-1 div.sk-label-container {text-align: center;}#sk-container-id-1 div.sk-container {/* jupyter's `normalize.less` sets `[hidden] { display: none; }` but bootstrap.min.css set `[hidden] { display: none !important; }` so we also need the `!important` here to be able to override the default hidden behavior on the sphinx rendered scikit-learn.org. See: https://github.com/scikit-learn/scikit-learn/issues/21755 */display: inline-block !important;position: relative;}#sk-container-id-1 div.sk-text-repr-fallback {display: none;}</style><div id=\"sk-container-id-1\" class=\"sk-top-container\"><div class=\"sk-text-repr-fallback\"><pre>LinearRegression()</pre><b>In a Jupyter environment, please rerun this cell to show the HTML representation or trust the notebook. <br />On GitHub, the HTML representation is unable to render, please try loading this page with nbviewer.org.</b></div><div class=\"sk-container\" hidden><div class=\"sk-item\"><div class=\"sk-estimator sk-toggleable\"><input class=\"sk-toggleable__control sk-hidden--visually\" id=\"sk-estimator-id-1\" type=\"checkbox\" checked><label for=\"sk-estimator-id-1\" class=\"sk-toggleable__label sk-toggleable__label-arrow\">LinearRegression</label><div class=\"sk-toggleable__content\"><pre>LinearRegression()</pre></div></div></div></div></div>"
      ],
      "text/plain": [
       "LinearRegression()"
      ]
     },
     "execution_count": 24,
     "metadata": {},
     "output_type": "execute_result"
    }
   ],
   "source": [
    "# Fit the regression object onto the training set.\n",
    "\n",
    "regression.fit(X_train, y_train)"
   ]
  },
  {
   "cell_type": "code",
   "execution_count": 25,
   "id": "f4ed6819",
   "metadata": {},
   "outputs": [],
   "source": [
    "# Predict the values of y using X.\n",
    "\n",
    "y_predicted = regression.predict(X_test)"
   ]
  },
  {
   "cell_type": "code",
   "execution_count": 26,
   "id": "35cacde3",
   "metadata": {},
   "outputs": [
    {
     "ename": "NameError",
     "evalue": "name 'y_predicted_train' is not defined",
     "output_type": "error",
     "traceback": [
      "\u001b[1;31m---------------------------------------------------------------------------\u001b[0m",
      "\u001b[1;31mNameError\u001b[0m                                 Traceback (most recent call last)",
      "Cell \u001b[1;32mIn[26], line 5\u001b[0m\n\u001b[0;32m      3\u001b[0m plot_test \u001b[38;5;241m=\u001b[39m plt\n\u001b[0;32m      4\u001b[0m plot_test\u001b[38;5;241m.\u001b[39mscatter(X_train, y_train, color\u001b[38;5;241m=\u001b[39m\u001b[38;5;124m'\u001b[39m\u001b[38;5;124mgreen\u001b[39m\u001b[38;5;124m'\u001b[39m, s \u001b[38;5;241m=\u001b[39m \u001b[38;5;241m15\u001b[39m)\n\u001b[1;32m----> 5\u001b[0m plot_test\u001b[38;5;241m.\u001b[39mplot(X_train, y_predicted_train, color\u001b[38;5;241m=\u001b[39m\u001b[38;5;124m'\u001b[39m\u001b[38;5;124mred\u001b[39m\u001b[38;5;124m'\u001b[39m, linewidth \u001b[38;5;241m=\u001b[39m\u001b[38;5;241m3\u001b[39m)\n\u001b[0;32m      6\u001b[0m plot_test\u001b[38;5;241m.\u001b[39mtitle(\u001b[38;5;124m'\u001b[39m\u001b[38;5;124mWins of Red Corner fighter vs Weight Class they fall in (Train set)\u001b[39m\u001b[38;5;124m'\u001b[39m)\n\u001b[0;32m      7\u001b[0m plot_test\u001b[38;5;241m.\u001b[39mxlabel(\u001b[38;5;124m'\u001b[39m\u001b[38;5;124mr_winner\u001b[39m\u001b[38;5;124m'\u001b[39m)\n",
      "\u001b[1;31mNameError\u001b[0m: name 'y_predicted_train' is not defined"
     ]
    },
    {
     "data": {
      "image/png": "[encoded data removed]",
      "text/plain": [
       "<Figure size 640x480 with 1 Axes>"
      ]
     },
     "metadata": {},
     "output_type": "display_data"
    }
   ],
   "source": [
    "# Visualizing the training set results.\n",
    "\n",
    "plot_test = plt\n",
    "plot_test.scatter(X_train, y_train, color='green', s = 15)\n",
    "plot_test.plot(X_train, y_predicted_train, color='red', linewidth =3)\n",
    "plot_test.title('Wins of Red Corner fighter vs Weight Class they fall in (Train set)')\n",
    "plot_test.xlabel('r_winner')\n",
    "plot_test.ylabel('r_weight_lbs')\n",
    "plot_test.show()"
   ]
  },
  {
   "cell_type": "code",
   "execution_count": 27,
   "id": "bbf985f1",
   "metadata": {},
   "outputs": [],
   "source": [
    "# Predict.\n",
    "\n",
    "y_predicted_train = regression.predict(X_train) # This is predicting X_train!"
   ]
  },
  {
   "cell_type": "code",
   "execution_count": 28,
   "id": "2eea0544",
   "metadata": {},
   "outputs": [],
   "source": [
    "rmse = mean_squared_error(y_train, y_predicted_train)\n",
    "r2 = r2_score(y_train, y_predicted_train)"
   ]
  },
  {
   "cell_type": "code",
   "execution_count": 29,
   "id": "e87b2326",
   "metadata": {},
   "outputs": [
    {
     "name": "stdout",
     "output_type": "stream",
     "text": [
      "Slope: [[0.50384842]]\n",
      "Mean squared error:  1280.1490787926393\n",
      "R2 score:  0.0029547977332664566\n"
     ]
    }
   ],
   "source": [
    "print('Slope:' ,regression.coef_)\n",
    "print('Mean squared error: ', rmse)\n",
    "print('R2 score: ', r2)"
   ]
  },
  {
   "cell_type": "code",
   "execution_count": 30,
   "id": "313264ba",
   "metadata": {},
   "outputs": [
    {
     "data": {
      "text/plain": [
       "array([[169.94124482],\n",
       "       [168.93354798],\n",
       "       [174.47588061],\n",
       "       ...,\n",
       "       [172.96433535],\n",
       "       [169.4373964 ],\n",
       "       [169.4373964 ]])"
      ]
     },
     "execution_count": 30,
     "metadata": {},
     "output_type": "execute_result"
    }
   ],
   "source": [
    "y_predicted"
   ]
  },
  {
   "cell_type": "code",
   "execution_count": 31,
   "id": "d6daa6a4",
   "metadata": {},
   "outputs": [
    {
     "data": {
      "text/html": [
       "<div>\n",
       "<style scoped>\n",
       "    .dataframe tbody tr th:only-of-type {\n",
       "        vertical-align: middle;\n",
       "    }\n",
       "\n",
       "    .dataframe tbody tr th {\n",
       "        vertical-align: top;\n",
       "    }\n",
       "\n",
       "    .dataframe thead th {\n",
       "        text-align: right;\n",
       "    }\n",
       "</style>\n",
       "<table border=\"1\" class=\"dataframe\">\n",
       "  <thead>\n",
       "    <tr style=\"text-align: right;\">\n",
       "      <th></th>\n",
       "      <th>Actual</th>\n",
       "      <th>Predicted</th>\n",
       "    </tr>\n",
       "  </thead>\n",
       "  <tbody>\n",
       "    <tr>\n",
       "      <th>0</th>\n",
       "      <td>185</td>\n",
       "      <td>169.941245</td>\n",
       "    </tr>\n",
       "    <tr>\n",
       "      <th>1</th>\n",
       "      <td>155</td>\n",
       "      <td>168.933548</td>\n",
       "    </tr>\n",
       "    <tr>\n",
       "      <th>2</th>\n",
       "      <td>185</td>\n",
       "      <td>174.475881</td>\n",
       "    </tr>\n",
       "    <tr>\n",
       "      <th>3</th>\n",
       "      <td>253</td>\n",
       "      <td>169.941245</td>\n",
       "    </tr>\n",
       "    <tr>\n",
       "      <th>4</th>\n",
       "      <td>205</td>\n",
       "      <td>174.979729</td>\n",
       "    </tr>\n",
       "    <tr>\n",
       "      <th>5</th>\n",
       "      <td>145</td>\n",
       "      <td>168.933548</td>\n",
       "    </tr>\n",
       "    <tr>\n",
       "      <th>6</th>\n",
       "      <td>135</td>\n",
       "      <td>168.933548</td>\n",
       "    </tr>\n",
       "    <tr>\n",
       "      <th>7</th>\n",
       "      <td>135</td>\n",
       "      <td>169.941245</td>\n",
       "    </tr>\n",
       "    <tr>\n",
       "      <th>8</th>\n",
       "      <td>115</td>\n",
       "      <td>169.941245</td>\n",
       "    </tr>\n",
       "    <tr>\n",
       "      <th>9</th>\n",
       "      <td>155</td>\n",
       "      <td>175.987426</td>\n",
       "    </tr>\n",
       "    <tr>\n",
       "      <th>10</th>\n",
       "      <td>170</td>\n",
       "      <td>173.972032</td>\n",
       "    </tr>\n",
       "    <tr>\n",
       "      <th>11</th>\n",
       "      <td>155</td>\n",
       "      <td>168.933548</td>\n",
       "    </tr>\n",
       "    <tr>\n",
       "      <th>12</th>\n",
       "      <td>135</td>\n",
       "      <td>171.452790</td>\n",
       "    </tr>\n",
       "    <tr>\n",
       "      <th>13</th>\n",
       "      <td>135</td>\n",
       "      <td>169.437396</td>\n",
       "    </tr>\n",
       "    <tr>\n",
       "      <th>14</th>\n",
       "      <td>135</td>\n",
       "      <td>171.452790</td>\n",
       "    </tr>\n",
       "    <tr>\n",
       "      <th>15</th>\n",
       "      <td>155</td>\n",
       "      <td>169.437396</td>\n",
       "    </tr>\n",
       "    <tr>\n",
       "      <th>16</th>\n",
       "      <td>155</td>\n",
       "      <td>170.948942</td>\n",
       "    </tr>\n",
       "    <tr>\n",
       "      <th>17</th>\n",
       "      <td>185</td>\n",
       "      <td>173.468184</td>\n",
       "    </tr>\n",
       "    <tr>\n",
       "      <th>18</th>\n",
       "      <td>185</td>\n",
       "      <td>173.972032</td>\n",
       "    </tr>\n",
       "    <tr>\n",
       "      <th>19</th>\n",
       "      <td>135</td>\n",
       "      <td>168.933548</td>\n",
       "    </tr>\n",
       "    <tr>\n",
       "      <th>20</th>\n",
       "      <td>155</td>\n",
       "      <td>169.941245</td>\n",
       "    </tr>\n",
       "    <tr>\n",
       "      <th>21</th>\n",
       "      <td>115</td>\n",
       "      <td>170.948942</td>\n",
       "    </tr>\n",
       "    <tr>\n",
       "      <th>22</th>\n",
       "      <td>205</td>\n",
       "      <td>173.468184</td>\n",
       "    </tr>\n",
       "    <tr>\n",
       "      <th>23</th>\n",
       "      <td>170</td>\n",
       "      <td>169.941245</td>\n",
       "    </tr>\n",
       "    <tr>\n",
       "      <th>24</th>\n",
       "      <td>265</td>\n",
       "      <td>170.948942</td>\n",
       "    </tr>\n",
       "    <tr>\n",
       "      <th>25</th>\n",
       "      <td>125</td>\n",
       "      <td>169.437396</td>\n",
       "    </tr>\n",
       "    <tr>\n",
       "      <th>26</th>\n",
       "      <td>145</td>\n",
       "      <td>168.933548</td>\n",
       "    </tr>\n",
       "    <tr>\n",
       "      <th>27</th>\n",
       "      <td>155</td>\n",
       "      <td>174.475881</td>\n",
       "    </tr>\n",
       "    <tr>\n",
       "      <th>28</th>\n",
       "      <td>170</td>\n",
       "      <td>168.933548</td>\n",
       "    </tr>\n",
       "    <tr>\n",
       "      <th>29</th>\n",
       "      <td>265</td>\n",
       "      <td>173.972032</td>\n",
       "    </tr>\n",
       "  </tbody>\n",
       "</table>\n",
       "</div>"
      ],
      "text/plain": [
       "    Actual   Predicted\n",
       "0      185  169.941245\n",
       "1      155  168.933548\n",
       "2      185  174.475881\n",
       "3      253  169.941245\n",
       "4      205  174.979729\n",
       "5      145  168.933548\n",
       "6      135  168.933548\n",
       "7      135  169.941245\n",
       "8      115  169.941245\n",
       "9      155  175.987426\n",
       "10     170  173.972032\n",
       "11     155  168.933548\n",
       "12     135  171.452790\n",
       "13     135  169.437396\n",
       "14     135  171.452790\n",
       "15     155  169.437396\n",
       "16     155  170.948942\n",
       "17     185  173.468184\n",
       "18     185  173.972032\n",
       "19     135  168.933548\n",
       "20     155  169.941245\n",
       "21     115  170.948942\n",
       "22     205  173.468184\n",
       "23     170  169.941245\n",
       "24     265  170.948942\n",
       "25     125  169.437396\n",
       "26     145  168.933548\n",
       "27     155  174.475881\n",
       "28     170  168.933548\n",
       "29     265  173.972032"
      ]
     },
     "execution_count": 31,
     "metadata": {},
     "output_type": "execute_result"
    }
   ],
   "source": [
    "# Create a dataframe comparing the actual and predicted values of y.\n",
    "\n",
    "data = pd.DataFrame({'Actual': y_test.flatten(), 'Predicted': y_predicted.flatten()})\n",
    "data.head(30)"
   ]
  },
  {
   "cell_type": "markdown",
   "id": "2bcaea7f",
   "metadata": {},
   "source": [
    "## 05. State your hypothesis in a markdown cell within your Jupyter notebook.\n",
    "### If the age of the fighter increases then the weight class they fight in will also increase.  "
   ]
  },
  {
   "cell_type": "markdown",
   "id": "ebaa16c0",
   "metadata": {},
   "source": [
    "## 06. Reshape the variables into NumPy arrays, with X being the independent variable and y being the dependent variable."
   ]
  },
  {
   "cell_type": "code",
   "execution_count": 32,
   "id": "a1b9ef76",
   "metadata": {},
   "outputs": [],
   "source": [
    "# Reshape the variables into NumPy arrays and put them into separate objects.\n",
    "\n",
    "X = df_UFC['r_age'].values.reshape(-1,1)\n",
    "y = df_UFC['r_weight_lbs'].values.reshape(-1,1)"
   ]
  },
  {
   "cell_type": "code",
   "execution_count": 33,
   "id": "d958b373",
   "metadata": {},
   "outputs": [
    {
     "data": {
      "text/plain": [
       "array([[27],\n",
       "       [30],\n",
       "       [27],\n",
       "       ...,\n",
       "       [43],\n",
       "       [41],\n",
       "       [31]], dtype=int64)"
      ]
     },
     "execution_count": 33,
     "metadata": {},
     "output_type": "execute_result"
    }
   ],
   "source": [
    "X"
   ]
  },
  {
   "cell_type": "code",
   "execution_count": 34,
   "id": "b9ae8ba8",
   "metadata": {},
   "outputs": [
    {
     "data": {
      "text/plain": [
       "array([[175],\n",
       "       [225],\n",
       "       [175],\n",
       "       ...,\n",
       "       [135],\n",
       "       [155],\n",
       "       [170]], dtype=int64)"
      ]
     },
     "execution_count": 34,
     "metadata": {},
     "output_type": "execute_result"
    }
   ],
   "source": [
    "y"
   ]
  },
  {
   "cell_type": "markdown",
   "id": "11c4af52",
   "metadata": {},
   "source": [
    "## 07. Split the data into two sets: a training set and a test set."
   ]
  },
  {
   "cell_type": "code",
   "execution_count": 35,
   "id": "aee14295",
   "metadata": {},
   "outputs": [],
   "source": [
    "# Split data into a training set and a test set.\n",
    "\n",
    "X_train, X_test, y_train, y_test = train_test_split(X, y, test_size=0.3, random_state=0)"
   ]
  },
  {
   "cell_type": "markdown",
   "id": "47665650",
   "metadata": {},
   "source": [
    "## 08. Run a linear regression on the data.\n",
    "First, fit the model you created to the training set.\n",
    "Then, create a prediction for y on the test set."
   ]
  },
  {
   "cell_type": "code",
   "execution_count": 36,
   "id": "d5123aac",
   "metadata": {},
   "outputs": [],
   "source": [
    "# Create a regression object.\n",
    "\n",
    "regression = LinearRegression()  # This is the regression object, which will be fit onto the training set."
   ]
  },
  {
   "cell_type": "code",
   "execution_count": 37,
   "id": "668278ee",
   "metadata": {},
   "outputs": [
    {
     "data": {
      "text/html": [
       "<style>#sk-container-id-2 {color: black;}#sk-container-id-2 pre{padding: 0;}#sk-container-id-2 div.sk-toggleable {background-color: white;}#sk-container-id-2 label.sk-toggleable__label {cursor: pointer;display: block;width: 100%;margin-bottom: 0;padding: 0.3em;box-sizing: border-box;text-align: center;}#sk-container-id-2 label.sk-toggleable__label-arrow:before {content: \"▸\";float: left;margin-right: 0.25em;color: #696969;}#sk-container-id-2 label.sk-toggleable__label-arrow:hover:before {color: black;}#sk-container-id-2 div.sk-estimator:hover label.sk-toggleable__label-arrow:before {color: black;}#sk-container-id-2 div.sk-toggleable__content {max-height: 0;max-width: 0;overflow: hidden;text-align: left;background-color: #f0f8ff;}#sk-container-id-2 div.sk-toggleable__content pre {margin: 0.2em;color: black;border-radius: 0.25em;background-color: #f0f8ff;}#sk-container-id-2 input.sk-toggleable__control:checked~div.sk-toggleable__content {max-height: 200px;max-width: 100%;overflow: auto;}#sk-container-id-2 input.sk-toggleable__control:checked~label.sk-toggleable__label-arrow:before {content: \"▾\";}#sk-container-id-2 div.sk-estimator input.sk-toggleable__control:checked~label.sk-toggleable__label {background-color: #d4ebff;}#sk-container-id-2 div.sk-label input.sk-toggleable__control:checked~label.sk-toggleable__label {background-color: #d4ebff;}#sk-container-id-2 input.sk-hidden--visually {border: 0;clip: rect(1px 1px 1px 1px);clip: rect(1px, 1px, 1px, 1px);height: 1px;margin: -1px;overflow: hidden;padding: 0;position: absolute;width: 1px;}#sk-container-id-2 div.sk-estimator {font-family: monospace;background-color: #f0f8ff;border: 1px dotted black;border-radius: 0.25em;box-sizing: border-box;margin-bottom: 0.5em;}#sk-container-id-2 div.sk-estimator:hover {background-color: #d4ebff;}#sk-container-id-2 div.sk-parallel-item::after {content: \"\";width: 100%;border-bottom: 1px solid gray;flex-grow: 1;}#sk-container-id-2 div.sk-label:hover label.sk-toggleable__label {background-color: #d4ebff;}#sk-container-id-2 div.sk-serial::before {content: \"\";position: absolute;border-left: 1px solid gray;box-sizing: border-box;top: 0;bottom: 0;left: 50%;z-index: 0;}#sk-container-id-2 div.sk-serial {display: flex;flex-direction: column;align-items: center;background-color: white;padding-right: 0.2em;padding-left: 0.2em;position: relative;}#sk-container-id-2 div.sk-item {position: relative;z-index: 1;}#sk-container-id-2 div.sk-parallel {display: flex;align-items: stretch;justify-content: center;background-color: white;position: relative;}#sk-container-id-2 div.sk-item::before, #sk-container-id-2 div.sk-parallel-item::before {content: \"\";position: absolute;border-left: 1px solid gray;box-sizing: border-box;top: 0;bottom: 0;left: 50%;z-index: -1;}#sk-container-id-2 div.sk-parallel-item {display: flex;flex-direction: column;z-index: 1;position: relative;background-color: white;}#sk-container-id-2 div.sk-parallel-item:first-child::after {align-self: flex-end;width: 50%;}#sk-container-id-2 div.sk-parallel-item:last-child::after {align-self: flex-start;width: 50%;}#sk-container-id-2 div.sk-parallel-item:only-child::after {width: 0;}#sk-container-id-2 div.sk-dashed-wrapped {border: 1px dashed gray;margin: 0 0.4em 0.5em 0.4em;box-sizing: border-box;padding-bottom: 0.4em;background-color: white;}#sk-container-id-2 div.sk-label label {font-family: monospace;font-weight: bold;display: inline-block;line-height: 1.2em;}#sk-container-id-2 div.sk-label-container {text-align: center;}#sk-container-id-2 div.sk-container {/* jupyter's `normalize.less` sets `[hidden] { display: none; }` but bootstrap.min.css set `[hidden] { display: none !important; }` so we also need the `!important` here to be able to override the default hidden behavior on the sphinx rendered scikit-learn.org. See: https://github.com/scikit-learn/scikit-learn/issues/21755 */display: inline-block !important;position: relative;}#sk-container-id-2 div.sk-text-repr-fallback {display: none;}</style><div id=\"sk-container-id-2\" class=\"sk-top-container\"><div class=\"sk-text-repr-fallback\"><pre>LinearRegression()</pre><b>In a Jupyter environment, please rerun this cell to show the HTML representation or trust the notebook. <br />On GitHub, the HTML representation is unable to render, please try loading this page with nbviewer.org.</b></div><div class=\"sk-container\" hidden><div class=\"sk-item\"><div class=\"sk-estimator sk-toggleable\"><input class=\"sk-toggleable__control sk-hidden--visually\" id=\"sk-estimator-id-2\" type=\"checkbox\" checked><label for=\"sk-estimator-id-2\" class=\"sk-toggleable__label sk-toggleable__label-arrow\">LinearRegression</label><div class=\"sk-toggleable__content\"><pre>LinearRegression()</pre></div></div></div></div></div>"
      ],
      "text/plain": [
       "LinearRegression()"
      ]
     },
     "execution_count": 37,
     "metadata": {},
     "output_type": "execute_result"
    }
   ],
   "source": [
    "# Fit the regression object onto the training set.\n",
    "\n",
    "regression.fit(X_train, y_train)"
   ]
  },
  {
   "cell_type": "code",
   "execution_count": 38,
   "id": "e1c0a177",
   "metadata": {},
   "outputs": [],
   "source": [
    "# Predict the values of y using X.\n",
    "\n",
    "y_predicted = regression.predict(X_test)"
   ]
  },
  {
   "cell_type": "code",
   "execution_count": 39,
   "id": "54793443",
   "metadata": {},
   "outputs": [
    {
     "data": {
      "image/png": "[encoded data removed]",
      "text/plain": [
       "<Figure size 640x480 with 1 Axes>"
      ]
     },
     "metadata": {},
     "output_type": "display_data"
    }
   ],
   "source": [
    "# Visualizing the training set results.\n",
    "\n",
    "plot_test = plt\n",
    "plot_test.scatter(X_train, y_train, color='green', s = 15)\n",
    "plot_test.plot(X_train, y_predicted_train, color='red', linewidth =3)\n",
    "plot_test.title('Age of Red Corner fighter vs Weight Class they fall in (Train set)')\n",
    "plot_test.xlabel('r_age')\n",
    "plot_test.ylabel('r_weight_lbs')\n",
    "plot_test.show()"
   ]
  },
  {
   "cell_type": "code",
   "execution_count": 40,
   "id": "2708bf8f",
   "metadata": {},
   "outputs": [],
   "source": [
    "# Predict.\n",
    "\n",
    "y_predicted_train = regression.predict(X_train) # This is predicting X_train!"
   ]
  },
  {
   "cell_type": "code",
   "execution_count": 41,
   "id": "98236573",
   "metadata": {},
   "outputs": [],
   "source": [
    "rmse = mean_squared_error(y_train, y_predicted_train)\n",
    "r2 = r2_score(y_train, y_predicted_train)"
   ]
  },
  {
   "cell_type": "code",
   "execution_count": 42,
   "id": "528e8626",
   "metadata": {},
   "outputs": [
    {
     "name": "stdout",
     "output_type": "stream",
     "text": [
      "Slope: [[1.50395762]]\n",
      "Mean squared error:  1244.7637798449534\n",
      "R2 score:  0.03051466801012448\n"
     ]
    }
   ],
   "source": [
    "print('Slope:' ,regression.coef_)\n",
    "print('Mean squared error: ', rmse)\n",
    "print('R2 score: ', r2)"
   ]
  },
  {
   "cell_type": "markdown",
   "id": "33d6de32",
   "metadata": {},
   "source": [
    "###  08. part 2 - Create a prediction for y on the test set."
   ]
  },
  {
   "cell_type": "code",
   "execution_count": 43,
   "id": "5f35b801",
   "metadata": {},
   "outputs": [
    {
     "data": {
      "text/plain": [
       "array([[163.89238735],\n",
       "       [165.39634498],\n",
       "       [180.43592122],\n",
       "       ...,\n",
       "       [169.90821785],\n",
       "       [174.42009072],\n",
       "       [168.40426023]])"
      ]
     },
     "execution_count": 43,
     "metadata": {},
     "output_type": "execute_result"
    }
   ],
   "source": [
    "y_predicted"
   ]
  },
  {
   "cell_type": "code",
   "execution_count": 44,
   "id": "f6e0a788",
   "metadata": {},
   "outputs": [
    {
     "data": {
      "text/html": [
       "<div>\n",
       "<style scoped>\n",
       "    .dataframe tbody tr th:only-of-type {\n",
       "        vertical-align: middle;\n",
       "    }\n",
       "\n",
       "    .dataframe tbody tr th {\n",
       "        vertical-align: top;\n",
       "    }\n",
       "\n",
       "    .dataframe thead th {\n",
       "        text-align: right;\n",
       "    }\n",
       "</style>\n",
       "<table border=\"1\" class=\"dataframe\">\n",
       "  <thead>\n",
       "    <tr style=\"text-align: right;\">\n",
       "      <th></th>\n",
       "      <th>Actual</th>\n",
       "      <th>Predicted</th>\n",
       "    </tr>\n",
       "  </thead>\n",
       "  <tbody>\n",
       "    <tr>\n",
       "      <th>0</th>\n",
       "      <td>185</td>\n",
       "      <td>163.892387</td>\n",
       "    </tr>\n",
       "    <tr>\n",
       "      <th>1</th>\n",
       "      <td>155</td>\n",
       "      <td>165.396345</td>\n",
       "    </tr>\n",
       "    <tr>\n",
       "      <th>2</th>\n",
       "      <td>185</td>\n",
       "      <td>180.435921</td>\n",
       "    </tr>\n",
       "    <tr>\n",
       "      <th>3</th>\n",
       "      <td>253</td>\n",
       "      <td>171.412175</td>\n",
       "    </tr>\n",
       "    <tr>\n",
       "      <th>4</th>\n",
       "      <td>205</td>\n",
       "      <td>174.420091</td>\n",
       "    </tr>\n",
       "    <tr>\n",
       "      <th>5</th>\n",
       "      <td>145</td>\n",
       "      <td>171.412175</td>\n",
       "    </tr>\n",
       "    <tr>\n",
       "      <th>6</th>\n",
       "      <td>135</td>\n",
       "      <td>168.404260</td>\n",
       "    </tr>\n",
       "    <tr>\n",
       "      <th>7</th>\n",
       "      <td>135</td>\n",
       "      <td>174.420091</td>\n",
       "    </tr>\n",
       "    <tr>\n",
       "      <th>8</th>\n",
       "      <td>115</td>\n",
       "      <td>177.428006</td>\n",
       "    </tr>\n",
       "    <tr>\n",
       "      <th>9</th>\n",
       "      <td>155</td>\n",
       "      <td>175.924048</td>\n",
       "    </tr>\n",
       "    <tr>\n",
       "      <th>10</th>\n",
       "      <td>170</td>\n",
       "      <td>174.420091</td>\n",
       "    </tr>\n",
       "    <tr>\n",
       "      <th>11</th>\n",
       "      <td>155</td>\n",
       "      <td>175.924048</td>\n",
       "    </tr>\n",
       "    <tr>\n",
       "      <th>12</th>\n",
       "      <td>135</td>\n",
       "      <td>184.947794</td>\n",
       "    </tr>\n",
       "    <tr>\n",
       "      <th>13</th>\n",
       "      <td>135</td>\n",
       "      <td>175.924048</td>\n",
       "    </tr>\n",
       "    <tr>\n",
       "      <th>14</th>\n",
       "      <td>135</td>\n",
       "      <td>175.924048</td>\n",
       "    </tr>\n",
       "    <tr>\n",
       "      <th>15</th>\n",
       "      <td>155</td>\n",
       "      <td>172.916133</td>\n",
       "    </tr>\n",
       "    <tr>\n",
       "      <th>16</th>\n",
       "      <td>155</td>\n",
       "      <td>169.908218</td>\n",
       "    </tr>\n",
       "    <tr>\n",
       "      <th>17</th>\n",
       "      <td>185</td>\n",
       "      <td>165.396345</td>\n",
       "    </tr>\n",
       "    <tr>\n",
       "      <th>18</th>\n",
       "      <td>185</td>\n",
       "      <td>169.908218</td>\n",
       "    </tr>\n",
       "    <tr>\n",
       "      <th>19</th>\n",
       "      <td>135</td>\n",
       "      <td>168.404260</td>\n",
       "    </tr>\n",
       "    <tr>\n",
       "      <th>20</th>\n",
       "      <td>155</td>\n",
       "      <td>174.420091</td>\n",
       "    </tr>\n",
       "    <tr>\n",
       "      <th>21</th>\n",
       "      <td>115</td>\n",
       "      <td>175.924048</td>\n",
       "    </tr>\n",
       "    <tr>\n",
       "      <th>22</th>\n",
       "      <td>205</td>\n",
       "      <td>171.412175</td>\n",
       "    </tr>\n",
       "    <tr>\n",
       "      <th>23</th>\n",
       "      <td>170</td>\n",
       "      <td>177.428006</td>\n",
       "    </tr>\n",
       "    <tr>\n",
       "      <th>24</th>\n",
       "      <td>265</td>\n",
       "      <td>169.908218</td>\n",
       "    </tr>\n",
       "    <tr>\n",
       "      <th>25</th>\n",
       "      <td>125</td>\n",
       "      <td>171.412175</td>\n",
       "    </tr>\n",
       "    <tr>\n",
       "      <th>26</th>\n",
       "      <td>145</td>\n",
       "      <td>162.388430</td>\n",
       "    </tr>\n",
       "    <tr>\n",
       "      <th>27</th>\n",
       "      <td>155</td>\n",
       "      <td>175.924048</td>\n",
       "    </tr>\n",
       "    <tr>\n",
       "      <th>28</th>\n",
       "      <td>170</td>\n",
       "      <td>171.412175</td>\n",
       "    </tr>\n",
       "    <tr>\n",
       "      <th>29</th>\n",
       "      <td>265</td>\n",
       "      <td>184.947794</td>\n",
       "    </tr>\n",
       "  </tbody>\n",
       "</table>\n",
       "</div>"
      ],
      "text/plain": [
       "    Actual   Predicted\n",
       "0      185  163.892387\n",
       "1      155  165.396345\n",
       "2      185  180.435921\n",
       "3      253  171.412175\n",
       "4      205  174.420091\n",
       "5      145  171.412175\n",
       "6      135  168.404260\n",
       "7      135  174.420091\n",
       "8      115  177.428006\n",
       "9      155  175.924048\n",
       "10     170  174.420091\n",
       "11     155  175.924048\n",
       "12     135  184.947794\n",
       "13     135  175.924048\n",
       "14     135  175.924048\n",
       "15     155  172.916133\n",
       "16     155  169.908218\n",
       "17     185  165.396345\n",
       "18     185  169.908218\n",
       "19     135  168.404260\n",
       "20     155  174.420091\n",
       "21     115  175.924048\n",
       "22     205  171.412175\n",
       "23     170  177.428006\n",
       "24     265  169.908218\n",
       "25     125  171.412175\n",
       "26     145  162.388430\n",
       "27     155  175.924048\n",
       "28     170  171.412175\n",
       "29     265  184.947794"
      ]
     },
     "execution_count": 44,
     "metadata": {},
     "output_type": "execute_result"
    }
   ],
   "source": [
    "# Create a dataframe comparing the actual and predicted values of y.\n",
    "\n",
    "data = pd.DataFrame({'Actual': y_test.flatten(), 'Predicted': y_predicted.flatten()})\n",
    "data.head(30)"
   ]
  },
  {
   "cell_type": "code",
   "execution_count": 45,
   "id": "ed760434",
   "metadata": {},
   "outputs": [],
   "source": [
    "# Predict.\n",
    "\n",
    "y_predicted_train = regression.predict(X_train) # This is predicting X_train!"
   ]
  },
  {
   "cell_type": "markdown",
   "id": "45d58e9a",
   "metadata": {},
   "source": [
    "## 09. Create a plot that shows the regression line on the test set."
   ]
  },
  {
   "cell_type": "code",
   "execution_count": 46,
   "id": "5dcbfba9",
   "metadata": {},
   "outputs": [
    {
     "data": {
      "image/png": "[encoded data removed]",
      "text/plain": [
       "<Figure size 640x480 with 1 Axes>"
      ]
     },
     "metadata": {},
     "output_type": "display_data"
    }
   ],
   "source": [
    "# Create a plot that shows the regression line from the model on the test set.\n",
    "\n",
    "plot_test = plt\n",
    "plot_test.scatter(X_test, y_test, color='gray', s = 15)\n",
    "plot_test.plot(X_test, y_predicted, color='red', linewidth =3)\n",
    "plot_test.title('Age of Red Corner fighter vs Weight Class they fall in (Test set)')\n",
    "plot_test.xlabel('r_age')\n",
    "plot_test.ylabel('r_weight_lbs')\n",
    "plot_test.show()"
   ]
  },
  {
   "cell_type": "code",
   "execution_count": 47,
   "id": "3c694923",
   "metadata": {},
   "outputs": [],
   "source": [
    "# Create objects that contain the model summary statistics.\n",
    "\n",
    "rmse = mean_squared_error(y_test, y_predicted) # This is the mean squared error\n",
    "r2 = r2_score(y_test, y_predicted) # This is the R2 score. "
   ]
  },
  {
   "cell_type": "code",
   "execution_count": 48,
   "id": "4d50d2d3",
   "metadata": {},
   "outputs": [
    {
     "name": "stdout",
     "output_type": "stream",
     "text": [
      "Slope: [[1.50395762]]\n",
      "Mean squared error:  1217.8225600961937\n",
      "R2 score:  0.029852693309743272\n"
     ]
    }
   ],
   "source": [
    "# Print the model summary statistics. This is where you evaluate the performance of the model.\n",
    "\n",
    "print('Slope:' ,regression.coef_)\n",
    "print('Mean squared error: ', rmse)\n",
    "print('R2 score: ', r2)"
   ]
  },
  {
   "cell_type": "markdown",
   "id": "89e31308",
   "metadata": {},
   "source": [
    "## 10. Write your own interpretation of how well the line appears to fit the data in a markdown cell."
   ]
  },
  {
   "cell_type": "markdown",
   "id": "0c2ec1b4",
   "metadata": {},
   "source": [
    "### The line has a slightly positive corellation and is what I hypothesized. If age increases then weight class increases. You can clearly see this at the youngest age they have the lowest ranges of weight. Older age over 40 the weight range is much higher. This is a unique and difficult dataset to interpret though for analysis I believe. You have variables constantly changing in different directions. Hence objects on the plot are everywhere and not fixed close to the line. Red and blue corner fighters can change weight classes at anytime. They can either gain weight or lose weight to meet a weight class requirement or to meet speicifc weight criteria for a title fight. Also historically over time with this dataset upon research different weight classes did exist so there may be some possible outliers if I narrowed down to analysis for a specific year or set of years only I would remove those. I did want to keep them though as this is analysis of 1993-2021 and wanted to see it overall. "
   ]
  },
  {
   "cell_type": "markdown",
   "id": "9e75fc06",
   "metadata": {},
   "source": [
    "## 11. Check the model performance statistics—MSE and R2 score.\n",
    "### This was done above below the repsective plots but for review both the MSE and R2 are clear indicators both the training and test models performed poorly.  The positive slope of 1.5 on both models does indicate x rises so does y. Which aligns with as age increases so does weight. The MSE is over 1200 on both models indicating a large distance from the regression line for data within the plot. This makes sense though as each age has many different weight groups. The R2 score is around 3% on both models which is extremly bad out of possible 100% for perfect model. This simply is just not good data or variables for this type of model period. "
   ]
  },
  {
   "cell_type": "markdown",
   "id": "c91df75e",
   "metadata": {},
   "source": [
    "## 12. Compare the predicted y values with the actual y values in a dataframe.\n",
    "### This was done above as well in question 08. part 2. The visual of this confirms the actual and predicted is very poor. There is some intances of weight being within 1 pound but others between 10-70 pds of difference. "
   ]
  },
  {
   "cell_type": "markdown",
   "id": "3a191687",
   "metadata": {},
   "source": [
    "## 13. Include your thoughts on how well the model performed on the test set in a markdown cell.\n",
    "### Include any reflections you have on the impact of possible data bias. This was answered in question 11. I do not believe though there is if any very small chance of data bias for this dataset. The data being produced is purely statistical in nature and closely monitered by mutliple sources in the sports world and industry. Those producing the numbers are mostly passionate and dedicated to accurate results as the sports industry you have many constantly checking your work including colleagues, fans and stakeholders. There could be some issues of bias with the older years being less tech saavy and the person inputting the data had limited options compared to more recent years with now having advnced computing systems in place largely doing the work or fact checking its accuracy to the person inputting data. "
   ]
  },
  {
   "cell_type": "code",
   "execution_count": null,
   "id": "cc3cadd1",
   "metadata": {},
   "outputs": [],
   "source": []
  }
 ],
 "metadata": {
  "kernelspec": {
   "display_name": "Python 3 (ipykernel)",
   "language": "python",
   "name": "python3"
  },
  "language_info": {
   "codemirror_mode": {
    "name": "ipython",
    "version": 3
   },
   "file_extension": ".py",
   "mimetype": "text/x-python",
   "name": "python",
   "nbconvert_exporter": "python",
   "pygments_lexer": "ipython3",
   "version": "3.11.4"
  }
 },
 "nbformat": 4,
 "nbformat_minor": 5
}
